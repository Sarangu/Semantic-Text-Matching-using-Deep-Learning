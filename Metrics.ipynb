{
 "cells": [
  {
   "cell_type": "code",
   "execution_count": 19,
   "id": "f9e271b7",
   "metadata": {},
   "outputs": [],
   "source": [
    "import random\n",
    "random.seed(20)"
   ]
  },
  {
   "cell_type": "code",
   "execution_count": 91,
   "id": "e5b248c2",
   "metadata": {},
   "outputs": [],
   "source": [
    "from scipy import spatial\n",
    "import time\n",
    "from matplotlib import pyplot as plt"
   ]
  },
  {
   "cell_type": "code",
   "execution_count": 120,
   "id": "f70314b3",
   "metadata": {},
   "outputs": [],
   "source": [
    "from sentence_transformers import SentenceTransformer"
   ]
  },
  {
   "cell_type": "code",
   "execution_count": 81,
   "id": "3644bd13",
   "metadata": {},
   "outputs": [],
   "source": [
    "#This file contains code that involves generating the candidates for an input query\n",
    "\n",
    "#Importing necessary packages\n",
    "import numpy as np\n",
    "import pandas as pd\n",
    "import re\n",
    "import torch\n",
    "import faiss\n",
    "import os\n",
    "import pickle\n",
    "import sys\n",
    "from transformers import AutoTokenizer, AutoModel\n",
    "\n",
    "\n",
    "\n",
    "#Using pre-trained models for tokenization and embeddings generation\n",
    "tokenizer = AutoTokenizer.from_pretrained('sentence-transformers/bert-base-nli-mean-tokens')\n",
    "model = AutoModel.from_pretrained('sentence-transformers/bert-base-nli-mean-tokens')\n",
    "model.eval()\n",
    "\n",
    "def get_sentence_embeddings(data):\n",
    "    tokens = {'input_ids': [], 'attention_mask': []}\n",
    "\n",
    "    for sentence in data:\n",
    "        # tokenize sentence and append to dictionary lists\n",
    "        new_tokens = tokenizer.encode_plus(sentence, max_length=128, truncation=True,\n",
    "                                          padding='max_length', return_tensors='pt')\n",
    "        tokens['input_ids'].append(new_tokens['input_ids'][0])\n",
    "        tokens['attention_mask'].append(new_tokens['attention_mask'][0])\n",
    "#     print(\"tokens made!\")\n",
    "    \n",
    "    # Flatten list of tensors into single tensor and convert to cuda tensors if necessary\n",
    "    tokens['input_ids'] = torch.stack(tokens['input_ids'])\n",
    "    tokens['attention_mask'] = torch.stack(tokens['attention_mask'])\n",
    "    \n",
    "    #Pass tokens to model to obtain output\n",
    "    with torch.no_grad():\n",
    "        outputs = model(**tokens)\n",
    "    \n",
    "    #Obtain embeddings as last hidden state\n",
    "    embeddings = outputs.last_hidden_state\n",
    "\n",
    "    #Create mask\n",
    "    attention_mask = tokens['attention_mask']\n",
    "    mask = attention_mask.unsqueeze(-1).expand(embeddings.size()).float()\n",
    "\n",
    "    #Compute masked embeddings\n",
    "    masked_embeddings = embeddings * mask\n",
    "    summed = torch.sum(masked_embeddings, 1)\n",
    "    summed_mask = torch.clamp(mask.sum(1), min=1e-9)\n",
    "    \n",
    "    #Perform mean pooling\n",
    "    mean_pooled = (summed / summed_mask)\n",
    "    \n",
    "    #Convert torch tensor to numpy array\n",
    "    embeddings_arr = mean_pooled.detach().numpy()\n",
    "\n",
    "    return embeddings_arr\n",
    "\n",
    "def obtain_trained_embeddings():\n",
    "    #Reading embeddings from pkl file into a list\n",
    "    objects = []\n",
    "    with (open(\"./embeddings/embeddings_stack_overflow_answer_titles.txt\", \"rb\")) as openfile:\n",
    "        while True:\n",
    "            try:\n",
    "                objects.append(pickle.load(openfile))\n",
    "            except EOFError:\n",
    "                break\n",
    "    embeddings = [item for sublist in objects for item in sublist]\n",
    "    return embeddings\n",
    "\n",
    "def faiss_index(embeddings):\n",
    "    #Length of each SBERT embedding is 768\n",
    "    d= 768\n",
    "    \n",
    "    #Creating faiss indices, adding for all embeddings\n",
    "    index = faiss.IndexFlatL2(d)\n",
    "    index.add(np.stack(embeddings, axis=0))\n",
    "    \n",
    "    return index\n",
    "\n",
    "def run_query(query, pre_loaded_embeddings=None, return_rate=10):\n",
    "    query_embedding = get_sentence_embeddings(query)\n",
    "    \n",
    "    #Obtain pre-processed data\n",
    "    res = pd.read_pickle('../formatted_data/stackoverflow/unique_answer_titles.pkl')\n",
    "    res = [x for x in res if str(x) != 'nan']\n",
    "    \n",
    "    #Calling functions to obtain embeddings of corpus and create faiss index\n",
    "    if pre_loaded_embeddings is not None:\n",
    "        embeddings = pre_loaded_embeddings\n",
    "    else:\n",
    "        embeddings = obtain_trained_embeddings()\n",
    "    index = faiss_index(embeddings)\n",
    "    \n",
    "    for query, query_embedding in zip(query, query_embedding):\n",
    "        distances, indices = index.search(np.asarray(query_embedding).reshape(1,768), return_rate)\n",
    "        yield [res[indices[0,idx]] for idx in range(return_rate)]\n"
   ]
  },
  {
   "cell_type": "code",
   "execution_count": 2,
   "id": "89fc4f7d",
   "metadata": {},
   "outputs": [],
   "source": [
    "q_links = pickle.load(open(\"../formatted_data/stackoverflow/q_link_pairs_titles_only.pkl\", \"rb\"))"
   ]
  },
  {
   "cell_type": "code",
   "execution_count": 61,
   "id": "cfbdbeaf",
   "metadata": {},
   "outputs": [
    {
     "name": "stdout",
     "output_type": "stream",
     "text": [
      "294444\n"
     ]
    }
   ],
   "source": [
    "all_embeddings = obtain_trained_embeddings()\n",
    "print(len(all_embeddings))"
   ]
  },
  {
   "cell_type": "code",
   "execution_count": 39,
   "id": "aa2f298b",
   "metadata": {},
   "outputs": [],
   "source": [
    "data = [x for x in pd.read_pickle('../formatted_data/stackoverflow/unique_answer_titles.pkl') if str(x) != 'nan']"
   ]
  },
  {
   "cell_type": "code",
   "execution_count": 86,
   "id": "0488f652",
   "metadata": {},
   "outputs": [],
   "source": [
    "random.seed(20)\n",
    "short_q_links = random.choices(q_links[:len(all_embeddings)], k=1000)\n",
    "all_q_list = set([q for (q,a) in q_links])\n",
    "short_a_list = [a for (q,a) in short_q_links]"
   ]
  },
  {
   "cell_type": "code",
   "execution_count": 87,
   "id": "e4eb3006",
   "metadata": {},
   "outputs": [],
   "source": [
    "def get_hit_rate(sample, embeddings, return_size):\n",
    "    hits = 0\n",
    "    result_sets = run_query([q for (q, _) in sample], embeddings, return_size)\n",
    "    for (_, a), result_set in zip(sample, result_sets):\n",
    "        if a in result_set:\n",
    "            hits += 1\n",
    "    return hits / len(sample)"
   ]
  },
  {
   "cell_type": "code",
   "execution_count": 88,
   "id": "00cdda06",
   "metadata": {},
   "outputs": [
    {
     "name": "stdout",
     "output_type": "stream",
     "text": [
      "Return size: 005\tHit Rate: 0.10\tAvg Query Time: 0.37s\n",
      "Return size: 010\tHit Rate: 0.12\tAvg Query Time: 0.37s\n",
      "Return size: 020\tHit Rate: 0.14\tAvg Query Time: 0.37s\n",
      "Return size: 030\tHit Rate: 0.15\tAvg Query Time: 0.37s\n",
      "Return size: 050\tHit Rate: 0.17\tAvg Query Time: 0.37s\n",
      "Return size: 080\tHit Rate: 0.20\tAvg Query Time: 0.37s\n",
      "Return size: 100\tHit Rate: 0.20\tAvg Query Time: 0.37s\n",
      "Return size: 200\tHit Rate: 0.24\tAvg Query Time: 0.37s\n",
      "Return size: 500\tHit Rate: 0.29\tAvg Query Time: 0.37s\n"
     ]
    }
   ],
   "source": [
    "hit_rates = []\n",
    "times_elapsed = []\n",
    "return_sizes = [5, 10, 20, 30, 50, 80, 100, 200, 500]\n",
    "\n",
    "start_time = time.perf_counter()\n",
    "for return_size in return_sizes:\n",
    "    hit_rate = get_hit_rate(short_q_links, all_embeddings, return_size)\n",
    "    hit_rates.append(hit_rate)\n",
    "    \n",
    "    end_time = time.perf_counter()\n",
    "    time_elapsed = (end_time - start_time) / len(short_q_links)\n",
    "    start_time = end_time\n",
    "    \n",
    "    times_elapsed.append(time_elapsed)\n",
    "    \n",
    "    print(\"Return size: {:03d}\\tHit Rate: {:.2f}\\tAvg Query Time: {:.2f}s\".format(return_size, hit_rate, time_elapsed))\n"
   ]
  },
  {
   "cell_type": "code",
   "execution_count": 92,
   "id": "40a725f2",
   "metadata": {},
   "outputs": [
    {
     "data": {
      "image/png": "[encoded data removed]",
      "text/plain": [
       "<Figure size 432x288 with 1 Axes>"
      ]
     },
     "metadata": {
      "needs_background": "light"
     },
     "output_type": "display_data"
    }
   ],
   "source": [
    "ax = plt.plot(return_sizes, hit_rates)\n",
    "plt.title('Candidate Search Breadth vs. Retrieval Rate')\n",
    "plt.xlabel('Search Breadth')\n",
    "plt.ylabel('Retrieval Rate')\n",
    "plt.show()"
   ]
  },
  {
   "cell_type": "code",
   "execution_count": 94,
   "id": "d42d7c9c",
   "metadata": {},
   "outputs": [
    {
     "data": {
      "text/html": [
       "<div>\n",
       "<style scoped>\n",
       "    .dataframe tbody tr th:only-of-type {\n",
       "        vertical-align: middle;\n",
       "    }\n",
       "\n",
       "    .dataframe tbody tr th {\n",
       "        vertical-align: top;\n",
       "    }\n",
       "\n",
       "    .dataframe thead th {\n",
       "        text-align: right;\n",
       "    }\n",
       "</style>\n",
       "<table border=\"1\" class=\"dataframe\">\n",
       "  <thead>\n",
       "    <tr style=\"text-align: right;\">\n",
       "      <th></th>\n",
       "      <th>Retrieval Rate</th>\n",
       "      <th>Random Baseline</th>\n",
       "      <th>Avg Query Time</th>\n",
       "    </tr>\n",
       "    <tr>\n",
       "      <th>Search Breadth</th>\n",
       "      <th></th>\n",
       "      <th></th>\n",
       "      <th></th>\n",
       "    </tr>\n",
       "  </thead>\n",
       "  <tbody>\n",
       "    <tr>\n",
       "      <th>5</th>\n",
       "      <td>0.098</td>\n",
       "      <td>0.000017</td>\n",
       "      <td>0.371473</td>\n",
       "    </tr>\n",
       "    <tr>\n",
       "      <th>10</th>\n",
       "      <td>0.115</td>\n",
       "      <td>0.000034</td>\n",
       "      <td>0.372144</td>\n",
       "    </tr>\n",
       "    <tr>\n",
       "      <th>20</th>\n",
       "      <td>0.136</td>\n",
       "      <td>0.000068</td>\n",
       "      <td>0.370316</td>\n",
       "    </tr>\n",
       "    <tr>\n",
       "      <th>30</th>\n",
       "      <td>0.151</td>\n",
       "      <td>0.000102</td>\n",
       "      <td>0.369384</td>\n",
       "    </tr>\n",
       "    <tr>\n",
       "      <th>50</th>\n",
       "      <td>0.175</td>\n",
       "      <td>0.000170</td>\n",
       "      <td>0.369970</td>\n",
       "    </tr>\n",
       "    <tr>\n",
       "      <th>80</th>\n",
       "      <td>0.197</td>\n",
       "      <td>0.000272</td>\n",
       "      <td>0.369828</td>\n",
       "    </tr>\n",
       "    <tr>\n",
       "      <th>100</th>\n",
       "      <td>0.204</td>\n",
       "      <td>0.000340</td>\n",
       "      <td>0.366275</td>\n",
       "    </tr>\n",
       "    <tr>\n",
       "      <th>200</th>\n",
       "      <td>0.236</td>\n",
       "      <td>0.000679</td>\n",
       "      <td>0.367641</td>\n",
       "    </tr>\n",
       "    <tr>\n",
       "      <th>500</th>\n",
       "      <td>0.286</td>\n",
       "      <td>0.001698</td>\n",
       "      <td>0.365749</td>\n",
       "    </tr>\n",
       "  </tbody>\n",
       "</table>\n",
       "</div>"
      ],
      "text/plain": [
       "                Retrieval Rate  Random Baseline  Avg Query Time\n",
       "Search Breadth                                                 \n",
       "5                        0.098         0.000017        0.371473\n",
       "10                       0.115         0.000034        0.372144\n",
       "20                       0.136         0.000068        0.370316\n",
       "30                       0.151         0.000102        0.369384\n",
       "50                       0.175         0.000170        0.369970\n",
       "80                       0.197         0.000272        0.369828\n",
       "100                      0.204         0.000340        0.366275\n",
       "200                      0.236         0.000679        0.367641\n",
       "500                      0.286         0.001698        0.365749"
      ]
     },
     "execution_count": 94,
     "metadata": {},
     "output_type": "execute_result"
    }
   ],
   "source": [
    "metric_df = pd.DataFrame({\n",
    "    \"Search Breadth\": return_sizes, \n",
    "    \"Retrieval Rate\": hit_rates,\n",
    "    \"Avg Query Time\": times_elapsed\n",
    "})\n",
    "metric_df[\"Random Baseline\"] = metric_df[\"Search Breadth\"] / len(all_embeddings)\n",
    "metric_df.index = metric_df[\"Search Breadth\"]\n",
    "metric_df[[\"Retrieval Rate\", \"Random Baseline\", \"Avg Query Time\"]]"
   ]
  },
  {
   "cell_type": "markdown",
   "id": "04f3611a",
   "metadata": {},
   "source": [
    "## Retrieval"
   ]
  },
  {
   "cell_type": "code",
   "execution_count": 118,
   "id": "b8a70978",
   "metadata": {},
   "outputs": [],
   "source": [
    "qa_pairs = pd.read_pickle('../formatted_data/stackoverflow/answer_title_body_lookup.pkl')\n",
    "qa_pairs_dict = dict(qa_pairs)\n",
    "\n",
    "def reranking(title_list, query, return_rate):\n",
    "    answers_list = []\n",
    "    query_embedding = get_sentence_embeddings(query)\n",
    "    \n",
    "    for idx in range(return_rate):\n",
    "        answers_list.append(qa_pairs_dict[title_list[idx]])\n",
    "        #print(idx+1,\":\",qa_pairs_dict[question_list[idx]])\n",
    "    answer_embeddings = get_sentence_embeddings(answers_list)\n",
    "    \n",
    "    return_answer_lookup = list(zip(title_list, answers_list))\n",
    "    \n",
    "    scored_answers = {}\n",
    "    for idx,answer_embedding in enumerate(answer_embeddings):\n",
    "        result = 1 - spatial.distance.cosine(query_embedding, answer_embedding)\n",
    "        scored_answers[result]=return_answer_lookup[idx]\n",
    "    ranked_answers = sorted(scored_answers.items(), key=lambda item: item[0], reverse = True)\n",
    "    \n",
    "    return ranked_answers\n",
    "\n",
    "def run_search_and_rank(query, pre_loaded_embeddings=None, return_rate=10):\n",
    "    \n",
    "    query = [query] # only one at a time\n",
    "    question_list = list(run_query(query, pre_loaded_embeddings, return_rate))[0]\n",
    "            \n",
    "    ranked_answers = reranking(question_list, query, return_rate)\n",
    "    \n",
    "    return [(s, t, b) for (s, (t, b)) in ranked_answers]"
   ]
  },
  {
   "cell_type": "code",
   "execution_count": 119,
   "id": "99861764",
   "metadata": {},
   "outputs": [],
   "source": [
    "def get_answer_rank(a_title, title_list):\n",
    "    if a_title not in title_list:\n",
    "        return None\n",
    "    return [i for (i, t) in enumerate(title_list) if t == a_title][0] + 1"
   ]
  },
  {
   "cell_type": "code",
   "execution_count": 142,
   "id": "e5d30c57",
   "metadata": {},
   "outputs": [
    {
     "name": "stdout",
     "output_type": "stream",
     "text": [
      "How to achieve const-correctness in C#? \"const correctness\" in C#\n",
      "4\n"
     ]
    }
   ],
   "source": [
    "q, a = q_links[10]\n",
    "print(q, a)\n",
    "\n",
    "scores, titles, bodies = list(zip(*run_search_and_rank(q, all_embeddings, 5)))\n",
    "r = get_answer_rank(a, titles)\n",
    "print(r)"
   ]
  },
  {
   "cell_type": "code",
   "execution_count": 147,
   "id": "797fbf78",
   "metadata": {},
   "outputs": [],
   "source": [
    "random.seed(20)\n",
    "short_q_links = random.choices(q_links[:len(all_embeddings)], k=10)"
   ]
  },
  {
   "cell_type": "code",
   "execution_count": null,
   "id": "bc471c7a",
   "metadata": {},
   "outputs": [
    {
     "name": "stdout",
     "output_type": "stream",
     "text": [
      "Return size: 005\tAvg Rank: 2.40\tAvg Query Time: 2.56s\n",
      "Return size: 010\tAvg Rank: 4.20\tAvg Query Time: 2.97s\n",
      "Return size: 020\tAvg Rank: 8.20\tAvg Query Time: 3.94s\n",
      "Return size: 030\tAvg Rank: 12.20\tAvg Query Time: 4.89s\n",
      "Return size: 050\tAvg Rank: 19.10\tAvg Query Time: 6.78s\n",
      "Return size: 080\tAvg Rank: 29.00\tAvg Query Time: 9.82s\n"
     ]
    }
   ],
   "source": [
    "ranks = []\n",
    "rerank_times_elapsed = []\n",
    "\n",
    "for return_size in return_sizes:\n",
    "    \n",
    "    curr_ranks = []\n",
    "    curr_rerank_times_elapsed = []\n",
    "    \n",
    "    start_time = time.perf_counter()\n",
    "    for _, a in short_q_links:\n",
    "        _, titles, _ = list(zip(*run_search_and_rank(a, all_embeddings, return_size)))\n",
    "        end_time = time.perf_counter()\n",
    "        time_elapsed = end_time - start_time\n",
    "        \n",
    "        rank = get_answer_rank(a, titles)\n",
    "        curr_ranks.append(rank)\n",
    "        \n",
    "        start_time = end_time\n",
    "        curr_rerank_times_elapsed.append(time_elapsed)\n",
    "    \n",
    "    avg_rank = np.mean([rank for rank in curr_ranks if rank is not None])\n",
    "    avg_time = np.mean([time_elapsed for time_elapsed in curr_rerank_times_elapsed])\n",
    "    \n",
    "    ranks.append(avg_rank)\n",
    "    rerank_times_elapsed.append(avg_time)\n",
    "    \n",
    "    print(\"Return size: {:03d}\\tAvg Rank: {:.2f}\\tAvg Query Time: {:.2f}s\".format(return_size, avg_rank, avg_time))\n"
   ]
  },
  {
   "cell_type": "code",
   "execution_count": null,
   "id": "dae9e3f5",
   "metadata": {},
   "outputs": [],
   "source": [
    "ax = plt.plot(return_sizes, ranks)\n",
    "plt.title('Candidate Search Breadth vs. Mean Rank')\n",
    "plt.xlabel('Search Breadth')\n",
    "plt.ylabel('Mean Rank')\n",
    "plt.show()"
   ]
  },
  {
   "cell_type": "code",
   "execution_count": null,
   "id": "1ae23502",
   "metadata": {},
   "outputs": [],
   "source": [
    "ax = plt.plot(return_sizes, rerank_times_elapsed)\n",
    "plt.title('Candidate Search Breadth vs. Rank Runtime')\n",
    "plt.xlabel('Search Breadth')\n",
    "plt.ylabel('Avg Query Time (s)')\n",
    "plt.show()"
   ]
  },
  {
   "cell_type": "code",
   "execution_count": null,
   "id": "20de0993",
   "metadata": {},
   "outputs": [],
   "source": [
    "rank_metric_df = pd.DataFrame({\n",
    "    \"Search Breadth\": return_sizes, \n",
    "    \"Mean Rank\": ranks,\n",
    "    \"Avg Rank Query Time\": rerank_times_elapsed\n",
    "})\n",
    "rank_metric_df.index = rank_metric_df[\"Search Breadth\"]\n",
    "rank_metric_df[[\"Mean Rank\", \"Avg Rank Query Time\"]]"
   ]
  },
  {
   "cell_type": "markdown",
   "id": "0731fd77",
   "metadata": {},
   "source": [
    "## VERIFY EMBEDDINGS AND STRINGS MATCH"
   ]
  },
  {
   "cell_type": "code",
   "execution_count": 24,
   "id": "2b4fa7ad",
   "metadata": {
    "scrolled": false
   },
   "outputs": [
    {
     "name": "stdout",
     "output_type": "stream",
     "text": [
      "0 0.9999999403953552\n",
      "1 1.0\n",
      "2 1.0\n",
      "3 1.0\n",
      "4 0.9999998807907104\n",
      "5 0.9999998211860657\n",
      "6 1.0\n",
      "7 1.0\n",
      "8 0.9999998807907104\n",
      "9 1.0\n",
      "10 1.0\n",
      "11 0.9999998807907104\n",
      "12 0.9999999403953552\n",
      "13 1.0\n",
      "14 0.9999998807907104\n",
      "15 1.0\n",
      "16 1.0\n",
      "17 1.0\n",
      "18 1.0\n",
      "19 1.0\n",
      "20 1.0\n",
      "21 1.0\n",
      "22 1.0\n",
      "23 0.9999998807907104\n",
      "24 1.0\n",
      "25 0.9999999403953552\n",
      "26 0.9999998807907104\n",
      "27 0.9999998807907104\n",
      "28 0.9999998807907104\n",
      "29 0.9999998807907104\n",
      "30 1.0\n",
      "31 1.0\n",
      "32 1.0\n",
      "33 0.9999998807907104\n",
      "34 0.9999999403953552\n",
      "35 1.0\n",
      "36 1.0\n",
      "37 1.0\n",
      "38 1.0\n",
      "39 0.9999998807907104\n",
      "40 1.0\n",
      "41 1.0\n",
      "42 1.0\n",
      "43 0.9999998807907104\n",
      "44 1.0\n",
      "45 1.0\n",
      "46 0.9999998807907104\n",
      "47 1.0\n",
      "48 1.0\n",
      "49 0.9999998807907104\n",
      "50 1.0\n",
      "51 1.0\n",
      "52 1.0\n",
      "53 0.9999998807907104\n",
      "54 0.9999998807907104\n",
      "55 0.9999998807907104\n",
      "56 0.9999998807907104\n",
      "57 1.0\n",
      "58 1.0\n",
      "59 1.0\n",
      "60 1.0\n",
      "61 1.0\n",
      "62 1.0\n",
      "63 1.0\n",
      "64 1.0\n",
      "65 1.0\n",
      "66 0.9999998807907104\n",
      "67 1.0\n",
      "68 1.0\n",
      "69 0.9999998807907104\n",
      "70 0.9999998807907104\n",
      "71 0.9999998807907104\n",
      "72 1.0\n",
      "73 0.9999998807907104\n",
      "74 1.0\n",
      "75 0.9999998807907104\n",
      "76 1.0\n",
      "77 1.0\n",
      "78 1.0\n",
      "79 0.9999999403953552\n",
      "80 1.0\n",
      "81 1.0\n",
      "82 1.0\n",
      "83 1.0\n",
      "84 0.9999998807907104\n",
      "85 1.0\n",
      "86 1.0\n",
      "87 1.0\n",
      "88 0.9999998807907104\n",
      "89 1.0\n",
      "90 0.9999998807907104\n"
     ]
    },
    {
     "ename": "KeyboardInterrupt",
     "evalue": "",
     "output_type": "error",
     "traceback": [
      "\u001b[0;31m---------------------------------------------------------------------------\u001b[0m",
      "\u001b[0;31mKeyboardInterrupt\u001b[0m                         Traceback (most recent call last)",
      "\u001b[0;32m<ipython-input-24-6d02a3a5ba38>\u001b[0m in \u001b[0;36m<module>\u001b[0;34m\u001b[0m\n\u001b[1;32m      1\u001b[0m \u001b[0mdata\u001b[0m \u001b[0;34m=\u001b[0m \u001b[0;34m[\u001b[0m\u001b[0mx\u001b[0m \u001b[0;32mfor\u001b[0m \u001b[0mx\u001b[0m \u001b[0;32min\u001b[0m \u001b[0mdata\u001b[0m \u001b[0;32mif\u001b[0m \u001b[0mstr\u001b[0m\u001b[0;34m(\u001b[0m\u001b[0mx\u001b[0m\u001b[0;34m)\u001b[0m \u001b[0;34m!=\u001b[0m \u001b[0;34m'nan'\u001b[0m\u001b[0;34m]\u001b[0m\u001b[0;34m\u001b[0m\u001b[0;34m\u001b[0m\u001b[0m\n\u001b[1;32m      2\u001b[0m \u001b[0;32mfor\u001b[0m \u001b[0mi\u001b[0m \u001b[0;32min\u001b[0m \u001b[0mrange\u001b[0m\u001b[0;34m(\u001b[0m\u001b[0;36m0\u001b[0m\u001b[0;34m,\u001b[0m \u001b[0;36m200\u001b[0m\u001b[0;34m)\u001b[0m\u001b[0;34m:\u001b[0m\u001b[0;34m\u001b[0m\u001b[0;34m\u001b[0m\u001b[0m\n\u001b[0;32m----> 3\u001b[0;31m     \u001b[0mprint\u001b[0m\u001b[0;34m(\u001b[0m\u001b[0mi\u001b[0m\u001b[0;34m,\u001b[0m \u001b[0;36m1\u001b[0m \u001b[0;34m-\u001b[0m \u001b[0mspatial\u001b[0m\u001b[0;34m.\u001b[0m\u001b[0mdistance\u001b[0m\u001b[0;34m.\u001b[0m\u001b[0mcosine\u001b[0m\u001b[0;34m(\u001b[0m\u001b[0mall_embeddings\u001b[0m\u001b[0;34m[\u001b[0m\u001b[0mi\u001b[0m\u001b[0;34m]\u001b[0m\u001b[0;34m,\u001b[0m \u001b[0mget_sentence_embeddings\u001b[0m\u001b[0;34m(\u001b[0m\u001b[0;34m[\u001b[0m\u001b[0mdata\u001b[0m\u001b[0;34m[\u001b[0m\u001b[0mi\u001b[0m\u001b[0;34m]\u001b[0m\u001b[0;34m]\u001b[0m\u001b[0;34m)\u001b[0m\u001b[0;34m[\u001b[0m\u001b[0;36m0\u001b[0m\u001b[0;34m]\u001b[0m\u001b[0;34m)\u001b[0m\u001b[0;34m)\u001b[0m\u001b[0;34m\u001b[0m\u001b[0;34m\u001b[0m\u001b[0m\n\u001b[0m",
      "\u001b[0;32m<ipython-input-17-88d185a945ea>\u001b[0m in \u001b[0;36mget_sentence_embeddings\u001b[0;34m(data)\u001b[0m\n\u001b[1;32m     36\u001b[0m     \u001b[0;31m#Pass tokens to model to obtain output\u001b[0m\u001b[0;34m\u001b[0m\u001b[0;34m\u001b[0m\u001b[0;34m\u001b[0m\u001b[0m\n\u001b[1;32m     37\u001b[0m     \u001b[0;32mwith\u001b[0m \u001b[0mtorch\u001b[0m\u001b[0;34m.\u001b[0m\u001b[0mno_grad\u001b[0m\u001b[0;34m(\u001b[0m\u001b[0;34m)\u001b[0m\u001b[0;34m:\u001b[0m\u001b[0;34m\u001b[0m\u001b[0;34m\u001b[0m\u001b[0m\n\u001b[0;32m---> 38\u001b[0;31m         \u001b[0moutputs\u001b[0m \u001b[0;34m=\u001b[0m \u001b[0mmodel\u001b[0m\u001b[0;34m(\u001b[0m\u001b[0;34m**\u001b[0m\u001b[0mtokens\u001b[0m\u001b[0;34m)\u001b[0m\u001b[0;34m\u001b[0m\u001b[0;34m\u001b[0m\u001b[0m\n\u001b[0m\u001b[1;32m     39\u001b[0m \u001b[0;34m\u001b[0m\u001b[0m\n\u001b[1;32m     40\u001b[0m     \u001b[0;31m#Obtain embeddings as last hidden state\u001b[0m\u001b[0;34m\u001b[0m\u001b[0;34m\u001b[0m\u001b[0;34m\u001b[0m\u001b[0m\n",
      "\u001b[0;32m~/.local/lib/python3.6/site-packages/torch/nn/modules/module.py\u001b[0m in \u001b[0;36m_call_impl\u001b[0;34m(self, *input, **kwargs)\u001b[0m\n\u001b[1;32m   1100\u001b[0m         if not (self._backward_hooks or self._forward_hooks or self._forward_pre_hooks or _global_backward_hooks\n\u001b[1;32m   1101\u001b[0m                 or _global_forward_hooks or _global_forward_pre_hooks):\n\u001b[0;32m-> 1102\u001b[0;31m             \u001b[0;32mreturn\u001b[0m \u001b[0mforward_call\u001b[0m\u001b[0;34m(\u001b[0m\u001b[0;34m*\u001b[0m\u001b[0minput\u001b[0m\u001b[0;34m,\u001b[0m \u001b[0;34m**\u001b[0m\u001b[0mkwargs\u001b[0m\u001b[0;34m)\u001b[0m\u001b[0;34m\u001b[0m\u001b[0;34m\u001b[0m\u001b[0m\n\u001b[0m\u001b[1;32m   1103\u001b[0m         \u001b[0;31m# Do not call functions when jit is used\u001b[0m\u001b[0;34m\u001b[0m\u001b[0;34m\u001b[0m\u001b[0;34m\u001b[0m\u001b[0m\n\u001b[1;32m   1104\u001b[0m         \u001b[0mfull_backward_hooks\u001b[0m\u001b[0;34m,\u001b[0m \u001b[0mnon_full_backward_hooks\u001b[0m \u001b[0;34m=\u001b[0m \u001b[0;34m[\u001b[0m\u001b[0;34m]\u001b[0m\u001b[0;34m,\u001b[0m \u001b[0;34m[\u001b[0m\u001b[0;34m]\u001b[0m\u001b[0;34m\u001b[0m\u001b[0;34m\u001b[0m\u001b[0m\n",
      "\u001b[0;32m~/.local/lib/python3.6/site-packages/transformers/models/bert/modeling_bert.py\u001b[0m in \u001b[0;36mforward\u001b[0;34m(self, input_ids, attention_mask, token_type_ids, position_ids, head_mask, inputs_embeds, encoder_hidden_states, encoder_attention_mask, past_key_values, use_cache, output_attentions, output_hidden_states, return_dict)\u001b[0m\n\u001b[1;32m   1004\u001b[0m             \u001b[0moutput_attentions\u001b[0m\u001b[0;34m=\u001b[0m\u001b[0moutput_attentions\u001b[0m\u001b[0;34m,\u001b[0m\u001b[0;34m\u001b[0m\u001b[0;34m\u001b[0m\u001b[0m\n\u001b[1;32m   1005\u001b[0m             \u001b[0moutput_hidden_states\u001b[0m\u001b[0;34m=\u001b[0m\u001b[0moutput_hidden_states\u001b[0m\u001b[0;34m,\u001b[0m\u001b[0;34m\u001b[0m\u001b[0;34m\u001b[0m\u001b[0m\n\u001b[0;32m-> 1006\u001b[0;31m             \u001b[0mreturn_dict\u001b[0m\u001b[0;34m=\u001b[0m\u001b[0mreturn_dict\u001b[0m\u001b[0;34m,\u001b[0m\u001b[0;34m\u001b[0m\u001b[0;34m\u001b[0m\u001b[0m\n\u001b[0m\u001b[1;32m   1007\u001b[0m         )\n\u001b[1;32m   1008\u001b[0m         \u001b[0msequence_output\u001b[0m \u001b[0;34m=\u001b[0m \u001b[0mencoder_outputs\u001b[0m\u001b[0;34m[\u001b[0m\u001b[0;36m0\u001b[0m\u001b[0;34m]\u001b[0m\u001b[0;34m\u001b[0m\u001b[0;34m\u001b[0m\u001b[0m\n",
      "\u001b[0;32m~/.local/lib/python3.6/site-packages/torch/nn/modules/module.py\u001b[0m in \u001b[0;36m_call_impl\u001b[0;34m(self, *input, **kwargs)\u001b[0m\n\u001b[1;32m   1100\u001b[0m         if not (self._backward_hooks or self._forward_hooks or self._forward_pre_hooks or _global_backward_hooks\n\u001b[1;32m   1101\u001b[0m                 or _global_forward_hooks or _global_forward_pre_hooks):\n\u001b[0;32m-> 1102\u001b[0;31m             \u001b[0;32mreturn\u001b[0m \u001b[0mforward_call\u001b[0m\u001b[0;34m(\u001b[0m\u001b[0;34m*\u001b[0m\u001b[0minput\u001b[0m\u001b[0;34m,\u001b[0m \u001b[0;34m**\u001b[0m\u001b[0mkwargs\u001b[0m\u001b[0;34m)\u001b[0m\u001b[0;34m\u001b[0m\u001b[0;34m\u001b[0m\u001b[0m\n\u001b[0m\u001b[1;32m   1103\u001b[0m         \u001b[0;31m# Do not call functions when jit is used\u001b[0m\u001b[0;34m\u001b[0m\u001b[0;34m\u001b[0m\u001b[0;34m\u001b[0m\u001b[0m\n\u001b[1;32m   1104\u001b[0m         \u001b[0mfull_backward_hooks\u001b[0m\u001b[0;34m,\u001b[0m \u001b[0mnon_full_backward_hooks\u001b[0m \u001b[0;34m=\u001b[0m \u001b[0;34m[\u001b[0m\u001b[0;34m]\u001b[0m\u001b[0;34m,\u001b[0m \u001b[0;34m[\u001b[0m\u001b[0;34m]\u001b[0m\u001b[0;34m\u001b[0m\u001b[0;34m\u001b[0m\u001b[0m\n",
      "\u001b[0;32m~/.local/lib/python3.6/site-packages/transformers/models/bert/modeling_bert.py\u001b[0m in \u001b[0;36mforward\u001b[0;34m(self, hidden_states, attention_mask, head_mask, encoder_hidden_states, encoder_attention_mask, past_key_values, use_cache, output_attentions, output_hidden_states, return_dict)\u001b[0m\n\u001b[1;32m    590\u001b[0m                     \u001b[0mencoder_attention_mask\u001b[0m\u001b[0;34m,\u001b[0m\u001b[0;34m\u001b[0m\u001b[0;34m\u001b[0m\u001b[0m\n\u001b[1;32m    591\u001b[0m                     \u001b[0mpast_key_value\u001b[0m\u001b[0;34m,\u001b[0m\u001b[0;34m\u001b[0m\u001b[0;34m\u001b[0m\u001b[0m\n\u001b[0;32m--> 592\u001b[0;31m                     \u001b[0moutput_attentions\u001b[0m\u001b[0;34m,\u001b[0m\u001b[0;34m\u001b[0m\u001b[0;34m\u001b[0m\u001b[0m\n\u001b[0m\u001b[1;32m    593\u001b[0m                 )\n\u001b[1;32m    594\u001b[0m \u001b[0;34m\u001b[0m\u001b[0m\n",
      "\u001b[0;32m~/.local/lib/python3.6/site-packages/torch/nn/modules/module.py\u001b[0m in \u001b[0;36m_call_impl\u001b[0;34m(self, *input, **kwargs)\u001b[0m\n\u001b[1;32m   1100\u001b[0m         if not (self._backward_hooks or self._forward_hooks or self._forward_pre_hooks or _global_backward_hooks\n\u001b[1;32m   1101\u001b[0m                 or _global_forward_hooks or _global_forward_pre_hooks):\n\u001b[0;32m-> 1102\u001b[0;31m             \u001b[0;32mreturn\u001b[0m \u001b[0mforward_call\u001b[0m\u001b[0;34m(\u001b[0m\u001b[0;34m*\u001b[0m\u001b[0minput\u001b[0m\u001b[0;34m,\u001b[0m \u001b[0;34m**\u001b[0m\u001b[0mkwargs\u001b[0m\u001b[0;34m)\u001b[0m\u001b[0;34m\u001b[0m\u001b[0;34m\u001b[0m\u001b[0m\n\u001b[0m\u001b[1;32m   1103\u001b[0m         \u001b[0;31m# Do not call functions when jit is used\u001b[0m\u001b[0;34m\u001b[0m\u001b[0;34m\u001b[0m\u001b[0;34m\u001b[0m\u001b[0m\n\u001b[1;32m   1104\u001b[0m         \u001b[0mfull_backward_hooks\u001b[0m\u001b[0;34m,\u001b[0m \u001b[0mnon_full_backward_hooks\u001b[0m \u001b[0;34m=\u001b[0m \u001b[0;34m[\u001b[0m\u001b[0;34m]\u001b[0m\u001b[0;34m,\u001b[0m \u001b[0;34m[\u001b[0m\u001b[0;34m]\u001b[0m\u001b[0;34m\u001b[0m\u001b[0;34m\u001b[0m\u001b[0m\n",
      "\u001b[0;32m~/.local/lib/python3.6/site-packages/transformers/models/bert/modeling_bert.py\u001b[0m in \u001b[0;36mforward\u001b[0;34m(self, hidden_states, attention_mask, head_mask, encoder_hidden_states, encoder_attention_mask, past_key_value, output_attentions)\u001b[0m\n\u001b[1;32m    475\u001b[0m             \u001b[0mhead_mask\u001b[0m\u001b[0;34m,\u001b[0m\u001b[0;34m\u001b[0m\u001b[0;34m\u001b[0m\u001b[0m\n\u001b[1;32m    476\u001b[0m             \u001b[0moutput_attentions\u001b[0m\u001b[0;34m=\u001b[0m\u001b[0moutput_attentions\u001b[0m\u001b[0;34m,\u001b[0m\u001b[0;34m\u001b[0m\u001b[0;34m\u001b[0m\u001b[0m\n\u001b[0;32m--> 477\u001b[0;31m             \u001b[0mpast_key_value\u001b[0m\u001b[0;34m=\u001b[0m\u001b[0mself_attn_past_key_value\u001b[0m\u001b[0;34m,\u001b[0m\u001b[0;34m\u001b[0m\u001b[0;34m\u001b[0m\u001b[0m\n\u001b[0m\u001b[1;32m    478\u001b[0m         )\n\u001b[1;32m    479\u001b[0m         \u001b[0mattention_output\u001b[0m \u001b[0;34m=\u001b[0m \u001b[0mself_attention_outputs\u001b[0m\u001b[0;34m[\u001b[0m\u001b[0;36m0\u001b[0m\u001b[0;34m]\u001b[0m\u001b[0;34m\u001b[0m\u001b[0;34m\u001b[0m\u001b[0m\n",
      "\u001b[0;32m~/.local/lib/python3.6/site-packages/torch/nn/modules/module.py\u001b[0m in \u001b[0;36m_call_impl\u001b[0;34m(self, *input, **kwargs)\u001b[0m\n\u001b[1;32m   1100\u001b[0m         if not (self._backward_hooks or self._forward_hooks or self._forward_pre_hooks or _global_backward_hooks\n\u001b[1;32m   1101\u001b[0m                 or _global_forward_hooks or _global_forward_pre_hooks):\n\u001b[0;32m-> 1102\u001b[0;31m             \u001b[0;32mreturn\u001b[0m \u001b[0mforward_call\u001b[0m\u001b[0;34m(\u001b[0m\u001b[0;34m*\u001b[0m\u001b[0minput\u001b[0m\u001b[0;34m,\u001b[0m \u001b[0;34m**\u001b[0m\u001b[0mkwargs\u001b[0m\u001b[0;34m)\u001b[0m\u001b[0;34m\u001b[0m\u001b[0;34m\u001b[0m\u001b[0m\n\u001b[0m\u001b[1;32m   1103\u001b[0m         \u001b[0;31m# Do not call functions when jit is used\u001b[0m\u001b[0;34m\u001b[0m\u001b[0;34m\u001b[0m\u001b[0;34m\u001b[0m\u001b[0m\n\u001b[1;32m   1104\u001b[0m         \u001b[0mfull_backward_hooks\u001b[0m\u001b[0;34m,\u001b[0m \u001b[0mnon_full_backward_hooks\u001b[0m \u001b[0;34m=\u001b[0m \u001b[0;34m[\u001b[0m\u001b[0;34m]\u001b[0m\u001b[0;34m,\u001b[0m \u001b[0;34m[\u001b[0m\u001b[0;34m]\u001b[0m\u001b[0;34m\u001b[0m\u001b[0;34m\u001b[0m\u001b[0m\n",
      "\u001b[0;32m~/.local/lib/python3.6/site-packages/transformers/models/bert/modeling_bert.py\u001b[0m in \u001b[0;36mforward\u001b[0;34m(self, hidden_states, attention_mask, head_mask, encoder_hidden_states, encoder_attention_mask, past_key_value, output_attentions)\u001b[0m\n\u001b[1;32m    407\u001b[0m             \u001b[0mencoder_attention_mask\u001b[0m\u001b[0;34m,\u001b[0m\u001b[0;34m\u001b[0m\u001b[0;34m\u001b[0m\u001b[0m\n\u001b[1;32m    408\u001b[0m             \u001b[0mpast_key_value\u001b[0m\u001b[0;34m,\u001b[0m\u001b[0;34m\u001b[0m\u001b[0;34m\u001b[0m\u001b[0m\n\u001b[0;32m--> 409\u001b[0;31m             \u001b[0moutput_attentions\u001b[0m\u001b[0;34m,\u001b[0m\u001b[0;34m\u001b[0m\u001b[0;34m\u001b[0m\u001b[0m\n\u001b[0m\u001b[1;32m    410\u001b[0m         )\n\u001b[1;32m    411\u001b[0m         \u001b[0mattention_output\u001b[0m \u001b[0;34m=\u001b[0m \u001b[0mself\u001b[0m\u001b[0;34m.\u001b[0m\u001b[0moutput\u001b[0m\u001b[0;34m(\u001b[0m\u001b[0mself_outputs\u001b[0m\u001b[0;34m[\u001b[0m\u001b[0;36m0\u001b[0m\u001b[0;34m]\u001b[0m\u001b[0;34m,\u001b[0m \u001b[0mhidden_states\u001b[0m\u001b[0;34m)\u001b[0m\u001b[0;34m\u001b[0m\u001b[0;34m\u001b[0m\u001b[0m\n",
      "\u001b[0;32m~/.local/lib/python3.6/site-packages/torch/nn/modules/module.py\u001b[0m in \u001b[0;36m_call_impl\u001b[0;34m(self, *input, **kwargs)\u001b[0m\n\u001b[1;32m   1100\u001b[0m         if not (self._backward_hooks or self._forward_hooks or self._forward_pre_hooks or _global_backward_hooks\n\u001b[1;32m   1101\u001b[0m                 or _global_forward_hooks or _global_forward_pre_hooks):\n\u001b[0;32m-> 1102\u001b[0;31m             \u001b[0;32mreturn\u001b[0m \u001b[0mforward_call\u001b[0m\u001b[0;34m(\u001b[0m\u001b[0;34m*\u001b[0m\u001b[0minput\u001b[0m\u001b[0;34m,\u001b[0m \u001b[0;34m**\u001b[0m\u001b[0mkwargs\u001b[0m\u001b[0;34m)\u001b[0m\u001b[0;34m\u001b[0m\u001b[0;34m\u001b[0m\u001b[0m\n\u001b[0m\u001b[1;32m   1103\u001b[0m         \u001b[0;31m# Do not call functions when jit is used\u001b[0m\u001b[0;34m\u001b[0m\u001b[0;34m\u001b[0m\u001b[0;34m\u001b[0m\u001b[0m\n\u001b[1;32m   1104\u001b[0m         \u001b[0mfull_backward_hooks\u001b[0m\u001b[0;34m,\u001b[0m \u001b[0mnon_full_backward_hooks\u001b[0m \u001b[0;34m=\u001b[0m \u001b[0;34m[\u001b[0m\u001b[0;34m]\u001b[0m\u001b[0;34m,\u001b[0m \u001b[0;34m[\u001b[0m\u001b[0;34m]\u001b[0m\u001b[0;34m\u001b[0m\u001b[0;34m\u001b[0m\u001b[0m\n",
      "\u001b[0;32m~/.local/lib/python3.6/site-packages/transformers/models/bert/modeling_bert.py\u001b[0m in \u001b[0;36mforward\u001b[0;34m(self, hidden_states, attention_mask, head_mask, encoder_hidden_states, encoder_attention_mask, past_key_value, output_attentions)\u001b[0m\n\u001b[1;32m    266\u001b[0m         \u001b[0moutput_attentions\u001b[0m\u001b[0;34m:\u001b[0m \u001b[0mOptional\u001b[0m\u001b[0;34m[\u001b[0m\u001b[0mbool\u001b[0m\u001b[0;34m]\u001b[0m \u001b[0;34m=\u001b[0m \u001b[0;32mFalse\u001b[0m\u001b[0;34m,\u001b[0m\u001b[0;34m\u001b[0m\u001b[0;34m\u001b[0m\u001b[0m\n\u001b[1;32m    267\u001b[0m     ) -> Tuple[torch.Tensor]:\n\u001b[0;32m--> 268\u001b[0;31m         \u001b[0mmixed_query_layer\u001b[0m \u001b[0;34m=\u001b[0m \u001b[0mself\u001b[0m\u001b[0;34m.\u001b[0m\u001b[0mquery\u001b[0m\u001b[0;34m(\u001b[0m\u001b[0mhidden_states\u001b[0m\u001b[0;34m)\u001b[0m\u001b[0;34m\u001b[0m\u001b[0;34m\u001b[0m\u001b[0m\n\u001b[0m\u001b[1;32m    269\u001b[0m \u001b[0;34m\u001b[0m\u001b[0m\n\u001b[1;32m    270\u001b[0m         \u001b[0;31m# If this is instantiated as a cross-attention module, the keys\u001b[0m\u001b[0;34m\u001b[0m\u001b[0;34m\u001b[0m\u001b[0;34m\u001b[0m\u001b[0m\n",
      "\u001b[0;32m~/.local/lib/python3.6/site-packages/torch/nn/modules/module.py\u001b[0m in \u001b[0;36m_call_impl\u001b[0;34m(self, *input, **kwargs)\u001b[0m\n\u001b[1;32m   1100\u001b[0m         if not (self._backward_hooks or self._forward_hooks or self._forward_pre_hooks or _global_backward_hooks\n\u001b[1;32m   1101\u001b[0m                 or _global_forward_hooks or _global_forward_pre_hooks):\n\u001b[0;32m-> 1102\u001b[0;31m             \u001b[0;32mreturn\u001b[0m \u001b[0mforward_call\u001b[0m\u001b[0;34m(\u001b[0m\u001b[0;34m*\u001b[0m\u001b[0minput\u001b[0m\u001b[0;34m,\u001b[0m \u001b[0;34m**\u001b[0m\u001b[0mkwargs\u001b[0m\u001b[0;34m)\u001b[0m\u001b[0;34m\u001b[0m\u001b[0;34m\u001b[0m\u001b[0m\n\u001b[0m\u001b[1;32m   1103\u001b[0m         \u001b[0;31m# Do not call functions when jit is used\u001b[0m\u001b[0;34m\u001b[0m\u001b[0;34m\u001b[0m\u001b[0;34m\u001b[0m\u001b[0m\n\u001b[1;32m   1104\u001b[0m         \u001b[0mfull_backward_hooks\u001b[0m\u001b[0;34m,\u001b[0m \u001b[0mnon_full_backward_hooks\u001b[0m \u001b[0;34m=\u001b[0m \u001b[0;34m[\u001b[0m\u001b[0;34m]\u001b[0m\u001b[0;34m,\u001b[0m \u001b[0;34m[\u001b[0m\u001b[0;34m]\u001b[0m\u001b[0;34m\u001b[0m\u001b[0;34m\u001b[0m\u001b[0m\n",
      "\u001b[0;32m~/.local/lib/python3.6/site-packages/torch/nn/modules/linear.py\u001b[0m in \u001b[0;36mforward\u001b[0;34m(self, input)\u001b[0m\n\u001b[1;32m    101\u001b[0m \u001b[0;34m\u001b[0m\u001b[0m\n\u001b[1;32m    102\u001b[0m     \u001b[0;32mdef\u001b[0m \u001b[0mforward\u001b[0m\u001b[0;34m(\u001b[0m\u001b[0mself\u001b[0m\u001b[0;34m,\u001b[0m \u001b[0minput\u001b[0m\u001b[0;34m:\u001b[0m \u001b[0mTensor\u001b[0m\u001b[0;34m)\u001b[0m \u001b[0;34m->\u001b[0m \u001b[0mTensor\u001b[0m\u001b[0;34m:\u001b[0m\u001b[0;34m\u001b[0m\u001b[0;34m\u001b[0m\u001b[0m\n\u001b[0;32m--> 103\u001b[0;31m         \u001b[0;32mreturn\u001b[0m \u001b[0mF\u001b[0m\u001b[0;34m.\u001b[0m\u001b[0mlinear\u001b[0m\u001b[0;34m(\u001b[0m\u001b[0minput\u001b[0m\u001b[0;34m,\u001b[0m \u001b[0mself\u001b[0m\u001b[0;34m.\u001b[0m\u001b[0mweight\u001b[0m\u001b[0;34m,\u001b[0m \u001b[0mself\u001b[0m\u001b[0;34m.\u001b[0m\u001b[0mbias\u001b[0m\u001b[0;34m)\u001b[0m\u001b[0;34m\u001b[0m\u001b[0;34m\u001b[0m\u001b[0m\n\u001b[0m\u001b[1;32m    104\u001b[0m \u001b[0;34m\u001b[0m\u001b[0m\n\u001b[1;32m    105\u001b[0m     \u001b[0;32mdef\u001b[0m \u001b[0mextra_repr\u001b[0m\u001b[0;34m(\u001b[0m\u001b[0mself\u001b[0m\u001b[0;34m)\u001b[0m \u001b[0;34m->\u001b[0m \u001b[0mstr\u001b[0m\u001b[0;34m:\u001b[0m\u001b[0;34m\u001b[0m\u001b[0;34m\u001b[0m\u001b[0m\n",
      "\u001b[0;32m~/.local/lib/python3.6/site-packages/torch/nn/functional.py\u001b[0m in \u001b[0;36mlinear\u001b[0;34m(input, weight, bias)\u001b[0m\n\u001b[1;32m   1846\u001b[0m     \u001b[0;32mif\u001b[0m \u001b[0mhas_torch_function_variadic\u001b[0m\u001b[0;34m(\u001b[0m\u001b[0minput\u001b[0m\u001b[0;34m,\u001b[0m \u001b[0mweight\u001b[0m\u001b[0;34m,\u001b[0m \u001b[0mbias\u001b[0m\u001b[0;34m)\u001b[0m\u001b[0;34m:\u001b[0m\u001b[0;34m\u001b[0m\u001b[0;34m\u001b[0m\u001b[0m\n\u001b[1;32m   1847\u001b[0m         \u001b[0;32mreturn\u001b[0m \u001b[0mhandle_torch_function\u001b[0m\u001b[0;34m(\u001b[0m\u001b[0mlinear\u001b[0m\u001b[0;34m,\u001b[0m \u001b[0;34m(\u001b[0m\u001b[0minput\u001b[0m\u001b[0;34m,\u001b[0m \u001b[0mweight\u001b[0m\u001b[0;34m,\u001b[0m \u001b[0mbias\u001b[0m\u001b[0;34m)\u001b[0m\u001b[0;34m,\u001b[0m \u001b[0minput\u001b[0m\u001b[0;34m,\u001b[0m \u001b[0mweight\u001b[0m\u001b[0;34m,\u001b[0m \u001b[0mbias\u001b[0m\u001b[0;34m=\u001b[0m\u001b[0mbias\u001b[0m\u001b[0;34m)\u001b[0m\u001b[0;34m\u001b[0m\u001b[0;34m\u001b[0m\u001b[0m\n\u001b[0;32m-> 1848\u001b[0;31m     \u001b[0;32mreturn\u001b[0m \u001b[0mtorch\u001b[0m\u001b[0;34m.\u001b[0m\u001b[0m_C\u001b[0m\u001b[0;34m.\u001b[0m\u001b[0m_nn\u001b[0m\u001b[0;34m.\u001b[0m\u001b[0mlinear\u001b[0m\u001b[0;34m(\u001b[0m\u001b[0minput\u001b[0m\u001b[0;34m,\u001b[0m \u001b[0mweight\u001b[0m\u001b[0;34m,\u001b[0m \u001b[0mbias\u001b[0m\u001b[0;34m)\u001b[0m\u001b[0;34m\u001b[0m\u001b[0;34m\u001b[0m\u001b[0m\n\u001b[0m\u001b[1;32m   1849\u001b[0m \u001b[0;34m\u001b[0m\u001b[0m\n\u001b[1;32m   1850\u001b[0m \u001b[0;34m\u001b[0m\u001b[0m\n",
      "\u001b[0;31mKeyboardInterrupt\u001b[0m: "
     ]
    }
   ],
   "source": [
    "# Check cosine matches\n",
    "for i in range(0, 200):\n",
    "    print(i, 1 - spatial.distance.cosine(all_embeddings[i], get_sentence_embeddings([data[i]])[0]))"
   ]
  }
 ],
 "metadata": {
  "kernelspec": {
   "display_name": "Python 3",
   "language": "python",
   "name": "python3"
  },
  "language_info": {
   "codemirror_mode": {
    "name": "ipython",
    "version": 3
   },
   "file_extension": ".py",
   "mimetype": "text/x-python",
   "name": "python",
   "nbconvert_exporter": "python",
   "pygments_lexer": "ipython3",
   "version": "3.6.9"
  }
 },
 "nbformat": 4,
 "nbformat_minor": 5
}
